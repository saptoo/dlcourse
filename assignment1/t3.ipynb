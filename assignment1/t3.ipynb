{
 "cells": [
  {
   "cell_type": "code",
   "execution_count": 21,
   "metadata": {},
   "outputs": [
    {
     "name": "stdout",
     "output_type": "stream",
     "text": [
      "The autoreload extension is already loaded. To reload it, use:\n",
      "  %reload_ext autoreload\n"
     ]
    }
   ],
   "source": [
    "import numpy as np\n",
    "import matplotlib.pyplot as plt\n",
    "\n",
    "%matplotlib inline\n",
    "\n",
    "%load_ext autoreload\n",
    "%autoreload 2"
   ]
  },
  {
   "cell_type": "code",
   "execution_count": 22,
   "metadata": {},
   "outputs": [],
   "source": [
    "from dataset import load_svhn, random_split_train_val\n",
    "from gradient_check import check_layer_gradient, check_layer_param_gradient, check_model_gradient\n",
    "from layers import FullyConnectedLayer, ReLULayer\n",
    "from model import TwoLayerNet\n",
    "from trainer import Trainer, Dataset\n",
    "from optim import SGD, MomentumSGD\n",
    "from metrics import multiclass_accuracy"
   ]
  },
  {
   "cell_type": "code",
   "execution_count": 52,
   "metadata": {},
   "outputs": [],
   "source": [
    "def prepare_for_neural_network(train_X, test_X):\n",
    "    train_flat = train_X.reshape(train_X.shape[0], -1).astype(float) / 255.0\n",
    "    test_flat = test_X.reshape(test_X.shape[0], -1).astype(float) / 255.0\n",
    "    \n",
    "    # Subtract mean\n",
    "    mean_image = np.mean(train_flat, axis = 0)\n",
    "    train_flat -= mean_image\n",
    "    test_flat -= mean_image\n",
    "    \n",
    "    return train_flat, test_flat\n",
    "    \n",
    "train_X, train_y, test_X, test_y = load_svhn(\"data\", max_train=20000, max_test=2000)    \n",
    "train_X, test_X = prepare_for_neural_network(train_X, test_X)\n",
    "# Split train into train and val\n",
    "train_X, train_y, val_X, val_y = random_split_train_val(train_X, train_y, num_val = 2000)"
   ]
  },
  {
   "cell_type": "code",
   "execution_count": 53,
   "metadata": {},
   "outputs": [
    {
     "data": {
      "text/plain": [
       "(18000, 3072)"
      ]
     },
     "execution_count": 53,
     "metadata": {},
     "output_type": "execute_result"
    }
   ],
   "source": [
    "train_X.shape"
   ]
  },
  {
   "cell_type": "code",
   "execution_count": 62,
   "metadata": {
    "pycharm": {
     "is_executing": true
    }
   },
   "outputs": [
    {
     "name": "stdout",
     "output_type": "stream",
     "text": [
      "Loss: 294.333652, Train accuracy: 0.493111, val accuracy: 0.490000\n",
      "Loss: 267.577196, Train accuracy: 0.643889, val accuracy: 0.617500\n",
      "Loss: 231.017532, Train accuracy: 0.676056, val accuracy: 0.635000\n",
      "Loss: 160.965240, Train accuracy: 0.707056, val accuracy: 0.647500\n",
      "Loss: 177.102631, Train accuracy: 0.772722, val accuracy: 0.715000\n",
      "Loss: 129.580805, Train accuracy: 0.758778, val accuracy: 0.684500\n",
      "Loss: 136.531447, Train accuracy: 0.791611, val accuracy: 0.721500\n",
      "Loss: 135.941436, Train accuracy: 0.828889, val accuracy: 0.744500\n",
      "Loss: 143.450791, Train accuracy: 0.852778, val accuracy: 0.751000\n",
      "Loss: 128.028089, Train accuracy: 0.858444, val accuracy: 0.754000\n",
      "Loss: 142.161461, Train accuracy: 0.861556, val accuracy: 0.753000\n",
      "Loss: 90.843162, Train accuracy: 0.884222, val accuracy: 0.778000\n",
      "Loss: 89.406321, Train accuracy: 0.890333, val accuracy: 0.775000\n",
      "Loss: 77.517742, Train accuracy: 0.901500, val accuracy: 0.775000\n",
      "Loss: 56.028226, Train accuracy: 0.909722, val accuracy: 0.768500\n",
      "Loss: 57.033679, Train accuracy: 0.922833, val accuracy: 0.780000\n",
      "Loss: 62.716253, Train accuracy: 0.927333, val accuracy: 0.788500\n",
      "Loss: 51.778433, Train accuracy: 0.936444, val accuracy: 0.788500\n",
      "Loss: 51.753471, Train accuracy: 0.940500, val accuracy: 0.787500\n",
      "Loss: 46.918720, Train accuracy: 0.947722, val accuracy: 0.788000\n"
     ]
    }
   ],
   "source": [
    "model = TwoLayerNet(n_input = train_X.shape[1], n_output = 10, hidden_layer_size = 1000, reg = 2e-5)\n",
    "dataset = Dataset(train_X, train_y, val_X, val_y)\n",
    "trainer = Trainer(model, dataset, MomentumSGD(), learning_rate=1e-3, learning_rate_decay=0.921)\n",
    "\n",
    "loss_history, train_history, val_history = trainer.fit()"
   ]
  },
  {
   "cell_type": "code",
   "execution_count": 63,
   "metadata": {
    "pycharm": {
     "is_executing": true,
     "name": "#%%\n"
    }
   },
   "outputs": [
    {
     "data": {
      "text/plain": [
       "[0.707,\n",
       " 0.73,\n",
       " 0.77,\n",
       " 0.74,\n",
       " 0.77,\n",
       " 0.774,\n",
       " 0.6435,\n",
       " 0.767,\n",
       " 0.7755,\n",
       " 0.7755,\n",
       " 0.799,\n",
       " 0.799,\n",
       " 0.808,\n",
       " 0.808,\n",
       " 0.6595,\n",
       " 0.79]"
      ]
     },
     "execution_count": 63,
     "metadata": {},
     "output_type": "execute_result"
    }
   ],
   "source": [
    "accuracy_history.append(multiclass_accuracy(model.predict(test_X), test_y))\n",
    "accuracy_history"
   ]
  },
  {
   "cell_type": "code",
   "execution_count": 64,
   "metadata": {
    "pycharm": {
     "is_executing": true
    }
   },
   "outputs": [
    {
     "name": "stdout",
     "output_type": "stream",
     "text": [
      "Loss: 46.573772, Train accuracy: 0.954000, val accuracy: 0.792000\n",
      "Loss: 46.855149, Train accuracy: 0.960000, val accuracy: 0.793000\n",
      "Loss: 36.516839, Train accuracy: 0.958222, val accuracy: 0.787000\n",
      "Loss: 29.808346, Train accuracy: 0.964056, val accuracy: 0.791500\n",
      "Loss: 33.210782, Train accuracy: 0.961278, val accuracy: 0.791500\n",
      "Loss: 27.329076, Train accuracy: 0.971167, val accuracy: 0.798000\n",
      "Loss: 25.175704, Train accuracy: 0.973111, val accuracy: 0.803000\n",
      "Loss: 30.154618, Train accuracy: 0.976778, val accuracy: 0.800500\n",
      "Loss: 20.481632, Train accuracy: 0.975889, val accuracy: 0.803500\n",
      "Loss: 28.742936, Train accuracy: 0.977389, val accuracy: 0.798500\n",
      "Loss: 22.515776, Train accuracy: 0.980222, val accuracy: 0.799000\n",
      "Loss: 26.105226, Train accuracy: 0.980667, val accuracy: 0.803500\n",
      "Loss: 21.295256, Train accuracy: 0.982056, val accuracy: 0.803000\n",
      "Loss: 26.987489, Train accuracy: 0.982444, val accuracy: 0.800500\n",
      "Loss: 20.990532, Train accuracy: 0.984278, val accuracy: 0.800500\n",
      "Loss: 24.074009, Train accuracy: 0.985056, val accuracy: 0.802000\n",
      "Loss: 15.892757, Train accuracy: 0.984333, val accuracy: 0.799500\n",
      "Loss: 27.250326, Train accuracy: 0.985778, val accuracy: 0.805500\n",
      "Loss: 24.807956, Train accuracy: 0.986556, val accuracy: 0.803000\n",
      "Loss: 25.848912, Train accuracy: 0.987111, val accuracy: 0.801500\n"
     ]
    }
   ],
   "source": [
    "loss_history, train_history, val_history = trainer.fit()"
   ]
  },
  {
   "cell_type": "code",
   "execution_count": 65,
   "metadata": {
    "pycharm": {
     "is_executing": true
    }
   },
   "outputs": [
    {
     "data": {
      "text/plain": [
       "[0.707,\n",
       " 0.73,\n",
       " 0.77,\n",
       " 0.74,\n",
       " 0.77,\n",
       " 0.774,\n",
       " 0.6435,\n",
       " 0.767,\n",
       " 0.7755,\n",
       " 0.7755,\n",
       " 0.799,\n",
       " 0.799,\n",
       " 0.808,\n",
       " 0.808,\n",
       " 0.6595,\n",
       " 0.79,\n",
       " 0.8045]"
      ]
     },
     "execution_count": 65,
     "metadata": {},
     "output_type": "execute_result"
    }
   ],
   "source": [
    "accuracy_history.append(multiclass_accuracy(model.predict(test_X), test_y))\n",
    "accuracy_history"
   ]
  },
  {
   "cell_type": "code",
   "execution_count": null,
   "metadata": {
    "pycharm": {
     "is_executing": true
    }
   },
   "outputs": [],
   "source": []
  }
 ],
 "metadata": {
  "kernelspec": {
   "display_name": "Python 3 (ipykernel)",
   "language": "python",
   "name": "python3"
  },
  "language_info": {
   "codemirror_mode": {
    "name": "ipython",
    "version": 3
   },
   "file_extension": ".py",
   "mimetype": "text/x-python",
   "name": "python",
   "nbconvert_exporter": "python",
   "pygments_lexer": "ipython3",
   "version": "3.7.9"
  }
 },
 "nbformat": 4,
 "nbformat_minor": 1
}