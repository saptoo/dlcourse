{
 "cells": [
  {
   "cell_type": "code",
   "execution_count": null,
   "metadata": {
    "pycharm": {
     "name": "#%%\n"
    }
   },
   "outputs": [],
   "source": [
    "import numpy as np\n",
    "import matplotlib.pyplot as plt\n",
    "\n",
    "%matplotlib inline\n",
    "\n",
    "%load_ext autoreload\n",
    "%autoreload 2"
   ]
  },
  {
   "cell_type": "code",
   "execution_count": null,
   "metadata": {
    "pycharm": {
     "name": "#%%\n"
    }
   },
   "outputs": [],
   "source": [
    "from dataset import load_svhn\n",
    "from knn import KNN\n",
    "from metrics import binary_classification_metrics, multiclass_accuracy"
   ]
  },
  {
   "cell_type": "code",
   "execution_count": null,
   "metadata": {
    "pycharm": {
     "name": "#%%\n"
    }
   },
   "outputs": [],
   "source": [
    "train_X, train_y, test_X, test_y = load_svhn(\"data\", max_train=35000, max_test=5000)"
   ]
  },
  {
   "cell_type": "code",
   "execution_count": null,
   "metadata": {
    "pycharm": {
     "name": "#%%\n"
    }
   },
   "outputs": [],
   "source": [
    "samples_per_class = 5  # Number of samples per class to visualize\n",
    "plot_index = 1\n",
    "for example_index in range(samples_per_class):\n",
    "    for class_index in range(10):\n",
    "        plt.subplot(5, 10, plot_index)\n",
    "        image = train_X[train_y == class_index][example_index]\n",
    "        plt.imshow(image.astype(np.uint8))\n",
    "        plt.axis('off')\n",
    "        plot_index += 1"
   ]
  },
  {
   "cell_type": "code",
   "execution_count": null,
   "metadata": {
    "pycharm": {
     "name": "#%%\n"
    }
   },
   "outputs": [],
   "source": [
    "# First, let's prepare the labels and the source data\n",
    "\n",
    "# Only select 0s and 9s\n",
    "binary_train_mask = (train_y == 0) | (train_y == 9)\n",
    "binary_train_X = train_X[binary_train_mask]\n",
    "binary_train_y = train_y[binary_train_mask] == 0\n",
    "\n",
    "binary_test_mask = (test_y == 0) | (test_y == 9)\n",
    "binary_test_X = test_X[binary_test_mask]\n",
    "binary_test_y = test_y[binary_test_mask] == 0\n",
    "# Reshape to 1-dimensional array [num_samples, 32*32*3]\n",
    "binary_train_X = binary_train_X.reshape(binary_train_X.shape[0], -1)\n",
    "binary_test_X = binary_test_X.reshape(binary_test_X.shape[0], -1)"
   ]
  },
  {
   "cell_type": "code",
   "execution_count": null,
   "metadata": {
    "pycharm": {
     "name": "#%%\n"
    }
   },
   "outputs": [],
   "source": [
    "# Create the classifier and call fit to train the model\n",
    "# KNN just remembers all the data\n",
    "knn_classifier = KNN(k=6)\n",
    "knn_classifier.fit(binary_train_X, binary_train_y)"
   ]
  },
  {
   "cell_type": "code",
   "execution_count": null,
   "metadata": {
    "pycharm": {
     "name": "#%%\n"
    }
   },
   "outputs": [],
   "source": [
    "# TODO: implement compute_distances_no_loops in knn.py\n",
    "dists = knn_classifier.compute_distances_no_loops(binary_test_X)\n",
    "assert np.isclose(dists[15, 120], np.sqrt(np.sum((binary_test_X[15] ** 2) + (binary_train_X[120] ** 2)\n",
    "                                        - (2 * binary_test_X[15] * binary_train_X[120]))))"
   ]
  },
  {
   "cell_type": "code",
   "execution_count": null,
   "metadata": {
    "pycharm": {
     "name": "#%%\n"
    }
   },
   "outputs": [],
   "source": [
    "prediction = knn_classifier.predict(binary_test_X)"
   ]
  },
  {
   "cell_type": "code",
   "execution_count": null,
   "metadata": {
    "pycharm": {
     "name": "#%%\n"
    }
   },
   "outputs": [],
   "source": []
  },
  {
   "cell_type": "code",
   "execution_count": null,
   "metadata": {
    "pycharm": {
     "name": "#%%\n"
    }
   },
   "outputs": [],
   "source": []
  },
  {
   "cell_type": "code",
   "execution_count": null,
   "metadata": {
    "pycharm": {
     "name": "#%%\n"
    }
   },
   "outputs": [],
   "source": [
    "precision, recall, f1, accuracy = binary_classification_metrics(prediction, binary_test_y)\n",
    "print(\"KNN with k = %s\" % knn_classifier.k)\n",
    "print(\"Accuracy: %4.2f, Precision: %4.2f, Recall: %4.2f, F1: %4.2f\" % (accuracy, precision, recall, f1))"
   ]
  },
  {
   "cell_type": "code",
   "execution_count": null,
   "metadata": {
    "pycharm": {
     "name": "#%%\n"
    }
   },
   "outputs": [],
   "source": [
    "knn_classifier_3 = KNN(k=3)\n",
    "knn_classifier_3.fit(binary_train_X, binary_train_y)\n",
    "prediction = knn_classifier_3.predict(binary_test_X)\n",
    "\n",
    "precision, recall, f1, accuracy = binary_classification_metrics(prediction, binary_test_y)\n",
    "print(\"KNN with k = %s\" % knn_classifier_3.k)\n",
    "print(\"Accuracy: %4.2f, Precision: %4.2f, Recall: %4.2f, F1: %4.2f\" % (accuracy, precision, recall, f1))"
   ]
  },
  {
   "cell_type": "code",
   "execution_count": null,
   "metadata": {
    "pycharm": {
     "name": "#%%\n"
    }
   },
   "outputs": [],
   "source": [
    "# Find the best k using cross-validation based on F1 score\n",
    "num_folds = 5\n",
    "train_folds_X = []\n",
    "train_folds_y = []\n",
    "# TODO: split the training data in 5 folds and store them in train_folds_X/train_folds_y\n",
    "k_choices = [1,2,3,25]\n",
    "k_to_f1 = {}  # dict mapping k values to mean F1 scores (int -> float)\n",
    "\n",
    "l_of_btx = binary_train_X.shape[0]\n",
    "l_of_btx_dn = l_of_btx // num_folds\n",
    "for i in range(num_folds):\n",
    "    train_folds_X.append(binary_train_X[i * (l_of_btx_dn) : (i + 1) * (l_of_btx_dn)])\n",
    "    train_folds_y.append(binary_train_y[i * (l_of_btx_dn) : (i + 1) * (l_of_btx_dn)])\n",
    "\n",
    "\n",
    "\n",
    "\n"
   ]
  },
  {
   "cell_type": "code",
   "execution_count": null,
   "metadata": {
    "pycharm": {
     "name": "#%%\n"
    }
   },
   "outputs": [],
   "source": [
    "k_choices"
   ]
  },
  {
   "cell_type": "code",
   "execution_count": null,
   "metadata": {
    "pycharm": {
     "name": "#%%\n"
    }
   },
   "outputs": [],
   "source": [
    "k_to_f1"
   ]
  },
  {
   "cell_type": "code",
   "execution_count": null,
   "metadata": {
    "pycharm": {
     "name": "#%%\n"
    }
   },
   "outputs": [],
   "source": [
    "for k in k_choices:\n",
    "    # TODO: perform cross-validation\n",
    "    # Go through every fold and use it for testing and all other folds for training\n",
    "    # Perform training and produce F1 score metric on the validation dataset\n",
    "    # Average F1 from all the folds and write it into k_to_f1\n",
    "    avg_f1 = []\n",
    "    knn_classifier_4 = KNN(k)\n",
    "    numbers_for_cv = []\n",
    "    c = True\n",
    "    for i in range(num_folds):\n",
    "        j = 0\n",
    "        while(j < i):\n",
    "            numbers_for_cv.append(j)\n",
    "            j += 1\n",
    "        p = i + 1\n",
    "        while(p < num_folds):\n",
    "            numbers_for_cv.append(p)\n",
    "            p += 1\n",
    "        #print(numbers_for_cv)\n",
    "        bin_train_cv_X = train_folds_X[numbers_for_cv[0]]\n",
    "        bin_train_cv_y = train_folds_y[numbers_for_cv[0]]\n",
    "        for num in numbers_for_cv:\n",
    "            if(c):\n",
    "                c = False\n",
    "                continue\n",
    "            else:\n",
    "                #print(str(i) + \"\\t\" + str(num))\n",
    "                bin_train_cv_X = np.concatenate((bin_train_cv_X, train_folds_X[num]))\n",
    "                bin_train_cv_y = np.concatenate((bin_train_cv_y, train_folds_y[num]))\n",
    "\n",
    "        knn_classifier_4.fit(bin_train_cv_X, bin_train_cv_y)\n",
    "        prediction = knn_classifier_4.predict(train_folds_X[i])\n",
    "        precision, recall, f1, accuracy = binary_classification_metrics(prediction, train_folds_y[i])\n",
    "        avg_f1.append(f1)\n",
    "    k_to_f1[k] = np.sum(avg_f1) / len(avg_f1)\n",
    "\n",
    "k_to_f1\n",
    "\n",
    "\n"
   ]
  },
  {
   "cell_type": "code",
   "execution_count": null,
   "metadata": {
    "pycharm": {
     "name": "#%%\n"
    }
   },
   "outputs": [],
   "source": [
    "# Now let's use all 10 classes\n",
    "train_X = train_X.reshape(train_X.shape[0], -1)\n",
    "test_X = test_X.reshape(test_X.shape[0], -1)\n",
    "\n",
    "knn_classifier = KNN(k=1)\n",
    "knn_classifier.fit(train_X, train_y)"
   ]
  },
  {
   "cell_type": "code",
   "execution_count": null,
   "metadata": {
    "pycharm": {
     "name": "#%%\n"
    }
   },
   "outputs": [],
   "source": [
    "predict = knn_classifier.predict(test_X)"
   ]
  },
  {
   "cell_type": "code",
   "execution_count": null,
   "metadata": {
    "pycharm": {
     "name": "#%%\n"
    }
   },
   "outputs": [],
   "source": []
  },
  {
   "cell_type": "code",
   "execution_count": null,
   "metadata": {
    "pycharm": {
     "name": "#%%\n"
    }
   },
   "outputs": [],
   "source": [
    "accuracy = multiclass_accuracy(predict, test_y)\n",
    "print(\"Accuracy: %4.2f\" % accuracy)"
   ]
  },
  {
   "cell_type": "code",
   "execution_count": null,
   "metadata": {
    "pycharm": {
     "name": "#%%\n"
    }
   },
   "outputs": [],
   "source": [
    "\n",
    "knn_classifier = KNN(k=25)\n",
    "knn_classifier.fit(train_X, train_y)\n",
    "predict = knn_classifier.predict(test_X)\n",
    "accuracy = multiclass_accuracy(predict, test_y)\n",
    "print(\"Accuracy: %4.5f\" % accuracy)"
   ]
  },
  {
   "cell_type": "code",
   "execution_count": null,
   "metadata": {
    "pycharm": {
     "name": "#%%\n"
    }
   },
   "outputs": [],
   "source": [
    "num_folds = 5\n",
    "train_folds_X = []\n",
    "train_folds_y = []\n",
    "\n",
    "k_choices = [1, 25, 35]\n",
    "k_to_accuracy = {}\n",
    "\n",
    "l = train_X.shape[0] // num_folds\n",
    "for i in range(num_folds):\n",
    "    train_folds_X.append(train_X[i * l : (i + 1) * l])\n",
    "    train_folds_y.append(train_y[i * l : (i + 1) * l])\n"
   ]
  },
  {
   "cell_type": "code",
   "execution_count": null,
   "metadata": {
    "pycharm": {
     "name": "#%%\n"
    }
   },
   "outputs": [],
   "source": [
    "for k in k_choices:\n",
    "    # Go through every fold and use it for testing and all other folds for validation\n",
    "    # Perform training and produce accuracy metric on the validation dataset\n",
    "    # Average accuracy from all the folds and write it into k_to_accuracy\n",
    "\n",
    "    avg_accuracy = []\n",
    "    knn_classifier_9 = KNN(k)\n",
    "    c = True\n",
    "    for i in range(num_folds):\n",
    "        numbers_for_cv = []\n",
    "        j = 0\n",
    "        while(j < i):\n",
    "            numbers_for_cv.append(j)\n",
    "            j += 1\n",
    "        p = i + 1\n",
    "        while(p < num_folds):\n",
    "            numbers_for_cv.append(p)\n",
    "            p += 1\n",
    "        tr_X = train_folds_X[numbers_for_cv[0]]\n",
    "        tr_y = train_folds_y[numbers_for_cv[0]]\n",
    "        print(numbers_for_cv)\n",
    "        for num in numbers_for_cv :\n",
    "            if (c == True):\n",
    "                c = False\n",
    "                continue\n",
    "            else:\n",
    "                tr_X = np.concatenate((tr_X, train_folds_X[num]))\n",
    "                tr_y = np.concatenate((tr_y, train_folds_y[num]))\n",
    "        knn_classifier_54 = KNN(k)\n",
    "        knn_classifier_54.fit(tr_X, tr_y)\n",
    "        predict_cv = knn_classifier_54.predict(train_folds_X[i])\n",
    "        accuracy_cv = multiclass_accuracy(predict_cv, train_folds_y[i])\n",
    "        avg_accuracy.append(accuracy_cv)\n",
    "    k_to_accuracy[k] = np.sum(avg_accuracy) / len(avg_accuracy)"
   ]
  },
  {
   "cell_type": "code",
   "execution_count": null,
   "metadata": {
    "pycharm": {
     "name": "#%%\n"
    }
   },
   "outputs": [],
   "source": [
    "k_to_accuracy"
   ]
  },
  {
   "cell_type": "code",
   "execution_count": null,
   "metadata": {
    "pycharm": {
     "name": "#%%\n"
    }
   },
   "outputs": [],
   "source": [
    "\n",
    "# TODO Set the best k as a best from computed\n",
    "best_k = 25\n",
    "\n",
    "best_knn_classifier = KNN(k=best_k)\n",
    "best_knn_classifier.fit(train_X, train_y)\n",
    "prediction = best_knn_classifier.predict(test_X)\n",
    "\n",
    "# Accuracy should be around 20%!\n",
    "accuracy = multiclass_accuracy(prediction, test_y)\n",
    "print(\"Accuracy: %4.10f\" % accuracy)\n"
   ]
  }
 ],
 "metadata": {
  "kernelspec": {
   "display_name": "Python 3 (ipykernel)",
   "language": "python",
   "name": "python3"
  },
  "language_info": {
   "codemirror_mode": {
    "name": "ipython",
    "version": 3
   },
   "file_extension": ".py",
   "mimetype": "text/x-python",
   "name": "python",
   "nbconvert_exporter": "python",
   "pygments_lexer": "ipython3",
   "version": "3.7.9"
  }
 },
 "nbformat": 4,
 "nbformat_minor": 1
}
